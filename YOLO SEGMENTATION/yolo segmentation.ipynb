{
 "cells": [
  {
   "cell_type": "code",
   "execution_count": 1,
   "id": "0f560775-cec3-4d8e-bc31-b8dc53e5fc4a",
   "metadata": {},
   "outputs": [],
   "source": [
    "from ultralytics import YOLO\n",
    "import matplotlib.pyplot as plt\n",
    "import cv2"
   ]
  },
  {
   "cell_type": "code",
   "execution_count": 2,
   "id": "6f335877-13c5-483f-9f50-7d41450be7b2",
   "metadata": {},
   "outputs": [],
   "source": [
    "model = YOLO(\"yolov8n-seg.pt\")"
   ]
  },
  {
   "cell_type": "code",
   "execution_count": 3,
   "id": "41b5927f-7d21-4687-a178-1e3c42a046e0",
   "metadata": {},
   "outputs": [
    {
     "name": "stdout",
     "output_type": "stream",
     "text": [
      "\n",
      "image 1/1 C:\\Users\\DELL\\OneDrive\\Desktop\\cat.jpg: 640x640 1 dog, 1 bear, 355.7ms\n",
      "Speed: 13.4ms preprocess, 355.7ms inference, 10.2ms postprocess per image at shape (1, 3, 640, 640)\n"
     ]
    }
   ],
   "source": [
    "result = model(\"C:/Users/DELL/OneDrive/Desktop/cat.jpg\")  "
   ]
  },
  {
   "cell_type": "code",
   "execution_count": null,
   "id": "6607772a-e99a-4706-a712-d7e4097bca21",
   "metadata": {},
   "outputs": [],
   "source": [
    "result_img = result[0].plot()\n",
    "plt.imshow(result_img)\n",
    "plt.axis('off')\n",
    "plt.show()"
   ]
  }
 ],
 "metadata": {
  "kernelspec": {
   "display_name": "Python 3 (ipykernel)",
   "language": "python",
   "name": "python3"
  },
  "language_info": {
   "codemirror_mode": {
    "name": "ipython",
    "version": 3
   },
   "file_extension": ".py",
   "mimetype": "text/x-python",
   "name": "python",
   "nbconvert_exporter": "python",
   "pygments_lexer": "ipython3",
   "version": "3.11.7"
  }
 },
 "nbformat": 4,
 "nbformat_minor": 5
}
